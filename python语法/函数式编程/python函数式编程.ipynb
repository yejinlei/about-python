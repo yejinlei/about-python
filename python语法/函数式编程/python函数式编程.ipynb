{
 "cells": [
  {
   "cell_type": "markdown",
   "metadata": {},
   "source": [
    "# python函数式编程"
   ]
  },
  {
   "cell_type": "markdown",
   "metadata": {},
   "source": [
    "1、函数是第一等公民“first class functions”。\n",
    "    \n",
    "    函数是对象\n",
    "    函数中可以嵌套定义函数\n",
    "    函数可以作为右值赋给变量\n",
    "    函数可以作为参数（高阶函数条件之一）\n",
    "    函数可以作为其他函数的返回值（高阶函数条件之一）\n",
    "\n",
    "2、闭包\n",
    "\n",
    "3、柯立芝"
   ]
  }
 ],
 "metadata": {
  "kernelspec": {
   "display_name": "Python 2",
   "language": "python",
   "name": "python2"
  },
  "language_info": {
   "codemirror_mode": {
    "name": "ipython",
    "version": 2
   },
   "file_extension": ".py",
   "mimetype": "text/x-python",
   "name": "python",
   "nbconvert_exporter": "python",
   "pygments_lexer": "ipython2",
   "version": "2.7.11"
  }
 },
 "nbformat": 4,
 "nbformat_minor": 0
}
